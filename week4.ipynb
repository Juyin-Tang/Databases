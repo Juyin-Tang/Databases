{
 "cells": [
  {
   "metadata": {},
   "cell_type": "markdown",
   "source": [
    "#week 4\n",
    "\n",
    "##exercise4\n",
    "\n",
    "###problem1\n",
    "List all Finnish airports that provide scheduled services. The result must include both the name of the country as well as the name of the airport.\n",
    "![question1](4-1.png)\n",
    "\n",
    "###problem2\n",
    "List the names and current airports of all players.\n",
    "![question2](4-2.png)\n",
    "\n",
    "###problem3\n",
    "List the names and current countries of all players.\n",
    "![question3](4-3.png)\n",
    "\n",
    "###problem4\n",
    "List the names of all airports that include the string \"Hels\" and the names of any players that might currently be on any of the listed airports.\n",
    "![question4](4-4.png)\n",
    "\n",
    "###problem5\n",
    "List the names of all weather goals and the names of any players that have so far achieved the listed goals.\n",
    "![question5](4-5.png)\n",
    "\n",
    "\n",
    "\n",
    "##exercise5\n",
    "\n",
    "###problem1\n",
    "One country has an airport where the airport name begins with the word \"Satsuma\". Print out the name of the country.\n",
    "![question1](5-1.png)\n",
    "\n",
    "###problem2\n",
    "List the names of all airports in Monaco.\n",
    "![question2](5-2.png)\n",
    "\n",
    "\n",
    "###problem3\n",
    "List the names of all players who have achieved the clouds goal.\n",
    "![question3](5-3.png)\n",
    "\n",
    "\n",
    "###problem4\n",
    "List all countries that have no airports.\n",
    "![question4](5-4.png)\n",
    "\n",
    "###problem5\n",
    "Which weather goals has Heini not achieved yet?\n",
    "![question5](5-5.png)\n"
   ],
   "id": "112a17886858cfa3"
  },
  {
   "metadata": {},
   "cell_type": "markdown",
   "source": "",
   "id": "892792360fd1862e"
  },
  {
   "metadata": {},
   "cell_type": "code",
   "outputs": [],
   "execution_count": null,
   "source": "",
   "id": "461271d6ced105d3"
  }
 ],
 "metadata": {
  "kernelspec": {
   "display_name": "Python 3",
   "language": "python",
   "name": "python3"
  },
  "language_info": {
   "codemirror_mode": {
    "name": "ipython",
    "version": 2
   },
   "file_extension": ".py",
   "mimetype": "text/x-python",
   "name": "python",
   "nbconvert_exporter": "python",
   "pygments_lexer": "ipython2",
   "version": "2.7.6"
  }
 },
 "nbformat": 4,
 "nbformat_minor": 5
}
