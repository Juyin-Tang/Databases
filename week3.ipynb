{
 "cells": [
  {
   "metadata": {},
   "cell_type": "markdown",
   "source": [
    "#week 3\n",
    "##exercise2\n",
    "\n",
    "###problem1\n",
    "![question1](2-1.png)\n",
    "\n",
    "###problem2\n",
    "![question2](2-2.png)\n",
    "\n",
    "###problem3\n",
    "![question3](2-3.png)\n",
    "\n",
    "###problem4\n",
    "![question4](2-4.png)\n",
    "\n",
    "###problem5\n",
    "![question5](2-5.png)\n",
    "\n",
    "###problem6\n",
    "![question6](2-6.png)\n",
    "\n",
    "###problem7\n",
    "![question7](2-7.png)\n",
    "\n",
    "###problem8\n",
    "![question8](2-8.png)\n",
    "\n",
    "###problem9\n",
    "![question9](2-9.png)\n",
    "\n",
    "###problem10\n",
    "![question10](2-10.png)\n",
    "\n",
    "##exercise3\n",
    "###problem1\n",
    "![question1](3-1.png)\n",
    "\n",
    "###problem2\n",
    "![question2](3-2.png)\n",
    "\n",
    "###problem3\n",
    "![question3](3.3.png)\n",
    "\n",
    "###problem4\n",
    "![question4](3.4.png)\n",
    "\n",
    "###problem5\n",
    "![question5](3.5.png)\n",
    "\n",
    "###problem6\n",
    "![question6](3.6.png)\n",
    "\n",
    "###problem7\n",
    "![question7](3.7.png)\n",
    "\n",
    "\n",
    "\n",
    "\n",
    "\n",
    "\n",
    "\n"
   ],
   "id": "ee7c00ccc367ff99"
  },
  {
   "metadata": {},
   "cell_type": "markdown",
   "source": "",
   "id": "94c776100fee4faa"
  }
 ],
 "metadata": {
  "kernelspec": {
   "display_name": "Python 3",
   "language": "python",
   "name": "python3"
  },
  "language_info": {
   "codemirror_mode": {
    "name": "ipython",
    "version": 2
   },
   "file_extension": ".py",
   "mimetype": "text/x-python",
   "name": "python",
   "nbconvert_exporter": "python",
   "pygments_lexer": "ipython2",
   "version": "2.7.6"
  }
 },
 "nbformat": 4,
 "nbformat_minor": 5
}
