{
 "cells": [
  {
   "metadata": {},
   "cell_type": "markdown",
   "source": [
    "#week 3\n",
    "##exercise2\n",
    "\n",
    "###problem1\n",
    "![question1](2-1.png)\n",
    "\n",
    "###problem2\n"
   ],
   "id": "ee7c00ccc367ff99"
  },
  {
   "metadata": {},
   "cell_type": "markdown",
   "source": "",
   "id": "94c776100fee4faa"
  }
 ],
 "metadata": {
  "kernelspec": {
   "display_name": "Python 3",
   "language": "python",
   "name": "python3"
  },
  "language_info": {
   "codemirror_mode": {
    "name": "ipython",
    "version": 2
   },
   "file_extension": ".py",
   "mimetype": "text/x-python",
   "name": "python",
   "nbconvert_exporter": "python",
   "pygments_lexer": "ipython2",
   "version": "2.7.6"
  }
 },
 "nbformat": 4,
 "nbformat_minor": 5
}
