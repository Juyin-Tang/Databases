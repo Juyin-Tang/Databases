{
 "cells": [
  {
   "metadata": {},
   "cell_type": "markdown",
   "source": [
    "#week 5\n",
    "\n",
    "##exercise6\n",
    "\n",
    "###problem1\n",
    "What is the elevation of the highest airport location?\n",
    "![question1](6-1.png)\n",
    "\n",
    "###problem2\n",
    "Write a query that lists all continents and the number of countries on them.\n",
    "![question1](6-2.png)\n",
    "\n",
    "###problem3\n",
    "List the names of all players and the number of weather goals they have achieved.\n",
    "![question1](6-3.png)\n",
    "\n",
    "###problem4\n",
    "Which player has the smallest carbon foot print?\n",
    "![question1](6-4.png)\n",
    "\n",
    "###problem5\n",
    "Print out the names of all countries and the number of airports in each country. Order the results by the airport count in descending order. Only include the top 50 countries with the largest number of airports.\n",
    "![question1](6-5.png)\n",
    "\n",
    "###problem6\n",
    "List the countries with more than 1000 airports. Use the iso_country field in the query.\n",
    "![question1](6-6.png)\n",
    "\n",
    "###problem7\n",
    "Print out the name of the highest airport in the world.\n",
    "![question1](6-7.png)\n",
    "\n",
    "###problem8\n",
    "In which country does the highest airport reside in?\n",
    "![question1](6-8.png)\n",
    "\n",
    "###problem9\n",
    "How many weather goals has Vesa achieved so far?\n",
    "![question1](6-9.png)\n",
    "\n",
    "###problem10\n",
    "What is the name of the airport that resides closest to the polar regions?\n",
    "![question1](6-10.png)\n",
    "\n",
    "##exercise7\n",
    "\n",
    "###problem1\n",
    "Vesa flies from his current location to the Nottingham Airport. At the same time, Vesa's carbon footprint increases by 500. Update the information to the database.\n",
    "![question1](7-1.png)\n",
    "\n",
    "###problem2\n",
    "Prepare your own database for the project by deleting all dummy data relating to the game state. To maintain referential integrity, you have to delete the data in a specific order.\n",
    "![question1](7-2.png)\n",
    "\n",
    "###problem3\n",
    "Delete the dummy data from the goal_reached table.\n",
    "![question1](7-3.png)\n",
    "\n",
    "###problem4\n",
    "Delete the data from the game table.\n",
    "![question1](7-4.png)\n"
   ],
   "id": "8802f11aee003d36"
  },
  {
   "metadata": {},
   "cell_type": "markdown",
   "source": "",
   "id": "7820beda84815871"
  },
  {
   "metadata": {},
   "cell_type": "code",
   "outputs": [],
   "execution_count": null,
   "source": "",
   "id": "e0d722ac66e374a4"
  }
 ],
 "metadata": {
  "kernelspec": {
   "display_name": "Python 3",
   "language": "python",
   "name": "python3"
  },
  "language_info": {
   "codemirror_mode": {
    "name": "ipython",
    "version": 2
   },
   "file_extension": ".py",
   "mimetype": "text/x-python",
   "name": "python",
   "nbconvert_exporter": "python",
   "pygments_lexer": "ipython2",
   "version": "2.7.6"
  }
 },
 "nbformat": 4,
 "nbformat_minor": 5
}
